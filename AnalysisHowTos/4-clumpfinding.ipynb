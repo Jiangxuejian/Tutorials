{
 "cells": [
  {
   "cell_type": "markdown",
   "metadata": {},
   "source": [
    "# Using CUPID for clumpfinding"
   ]
  },
  {
   "cell_type": "markdown",
   "metadata": {},
   "source": [
    "The Starlink package [`CUPID`](http://starlink.eao.hawaii.edu/docs/sun255.htx/sun255.html) contains implementations of various algorithms for Clump Finding in any number of dimensions. Here we will show you its use in 2 and 3-D, using the FellWalker algorithm.\n",
    "\n",
    "First of all we will need to set up Starlink, initialise the Cupid and KAPPA packages, and move into our working directory. Because this is being run in a jupyter notebook, we will also turn off prompting for user input. (You should replace the `/star` in the first line below with the location of your Starlink installation directory: e.g. `~/star-2018A`)"
   ]
  },
  {
   "cell_type": "code",
   "execution_count": 1,
   "metadata": {},
   "outputs": [
    {
     "name": "stdout",
     "output_type": "stream",
     "text": [
      "\n",
      "\n",
      "     CUPID commands are now available -- (Version 2.5)\n",
      "\n",
      "     Type cupidhelp for help on CUPID commands.\n",
      "     Type 'showme sun255' to browse the hypertext documentation.\n",
      "\n",
      "   \n",
      "\n",
      "\n",
      "     KAPPA commands are now available -- (Version 2.5-8)\n",
      "\n",
      "     Type kaphelp for help on KAPPA commands.\n",
      "     Type 'showme sun95' to browse the hypertext documentation.\n",
      "\n",
      "     See the 'Release Notes' section of SUN/95 for details of the\n",
      "     changes made for this release.\n",
      "\n",
      "   \n"
     ]
    }
   ],
   "source": [
    "export STARLINK_DIR=/star\n",
    "source $STARLINK_DIR/etc/profile\n",
    "export ADAM_NOPROMPT=1\n",
    "mkdir Clumpfinding\n",
    "cd Clumpfinding\n",
    "cupid\n",
    "kappa"
   ]
  },
  {
   "cell_type": "markdown",
   "metadata": {},
   "source": [
    "## Clumpfinding in 2-D\n",
    "First of all we will try out some 2-D clumpfinding.\n",
    "\n",
    "We will use the same HARP 12CO G34-3 cube from COHRS that we have been using in other tutorials."
   ]
  },
  {
   "cell_type": "code",
   "execution_count": 2,
   "metadata": {},
   "outputs": [],
   "source": [
    "cp ../Data/g34-3-12co_small_trim.sdf 12co_cube.sdf"
   ]
  },
  {
   "cell_type": "markdown",
   "metadata": {},
   "source": [
    "If we integrate this over the emission, we will then have a 2-D map of integrated emission."
   ]
  },
  {
   "cell_type": "code",
   "execution_count": 3,
   "metadata": {},
   "outputs": [
    {
     "name": "stdout",
     "output_type": "stream",
     "text": [
      "   Collapsing pixel axis 3 from pixel -16 to pixel 86 inclusive...\n",
      "\n"
     ]
    }
   ],
   "source": [
    "collapse in=12co_cube.sdf estimator='integ' wlim=0.0 out=12co_integ.sdf axis=VRAD low=18.0 high=120.0"
   ]
  },
  {
   "cell_type": "markdown",
   "metadata": {},
   "source": [
    "We can use display to view this. First of all we'll set up some useful defaults for plotting, and create a quick PNG plot of the data."
   ]
  },
  {
   "cell_type": "code",
   "execution_count": 6,
   "metadata": {},
   "outputs": [
    {
     "name": "stdout",
     "output_type": "stream",
     "text": [
      "Data will be scaled from 24.4844436645508 to 177.155227661133.\n"
     ]
    }
   ],
   "source": [
    "gdclear dev=integ.png/PNG\n",
    "lutwarm dev=integ.png/PNG\n",
    "palentry 0 White dev=integ.png/PNG\n",
    "palentry 1 Black dev=integ.png/PNG\n",
    "echo 'border=1' > style.dat\n",
    "echo 'color(border) = black' >>style.dat\n",
    "echo 'color(numlab) = black' >>style.dat\n",
    "echo 'color(ticks) = grey' >>style.dat\n",
    "\n",
    "display in=12co_integ.sdf dev=integ.png/PNG style=^style.dat low=0.0 mode=faint\n"
   ]
  },
  {
   "cell_type": "markdown",
   "metadata": {},
   "source": [
    "![12CO 3-2 integrated intensity](Clumpfinding/integ.png)\n",
    "\n",
    "We will now use CUPID's [`findclumps`](http://starlink.eao.hawaii.edu/cgi-bin/htxserver/sun255.htx/sun255.html?xref_FINDCLUMPS) with the FellWalker algorithm to identify two dimensional clumps of emission. First we will initialise cupid:"
   ]
  },
  {
   "cell_type": "code",
   "execution_count": 7,
   "metadata": {},
   "outputs": [
    {
     "name": "stdout",
     "output_type": "stream",
     "text": [
      "\n",
      "\n",
      "     CUPID commands are now available -- (Version 2.5)\n",
      "\n",
      "     Type cupidhelp for help on CUPID commands.\n",
      "     Type 'showme sun255' to browse the hypertext documentation.\n",
      "\n",
      "   \n"
     ]
    }
   ],
   "source": [
    "cupid"
   ]
  },
  {
   "cell_type": "markdown",
   "metadata": {},
   "source": [
    "We will set Fellwalker to only look at clumps with a minimum height of 5 times the RMS (`Fellwalker.minheight`), to only split into a different clump if there is a dip of at least 5 times the RMS between peaks(`Fellwalker.MINDIP`), to run 2 cleaning iterations (`FellWalker.CleanIter`), and to follow the clumps down to 3 times the RMS (`Fellwalker.NOISE`) . The RMS will be automatically calculated from the variance array."
   ]
  },
  {
   "cell_type": "code",
   "execution_count": 8,
   "metadata": {},
   "outputs": [
    {
     "name": "stdout",
     "output_type": "stream",
     "text": [
      "\n",
      "\n",
      "FellWalker:\n",
      "162 clumps rejected because they contain too few pixels.\n",
      "27 usable clumps found.\n",
      "\n",
      "\n",
      "Configuration parameters:\n",
      "   FELLWALKER.ALLOWEDGE=1\n",
      "   FELLWALKER.CLEANITER=2\n",
      "   FELLWALKER.DUMPPEAK=0\n",
      "   FELLWALKER.DUMPWALK=-1\n",
      "   FELLWALKER.FLATSLOPE=3.5391768339269\n",
      "   FELLWALKER.FWHMBEAM=2\n",
      "   FELLWALKER.MAXBAD=0.05\n",
      "   FELLWALKER.MAXJUMP=4\n",
      "   FELLWALKER.MINDIP=17.6958841696345\n",
      "   FELLWALKER.MINHEIGHT=17.6958841696345\n",
      "   FELLWALKER.MINPIX=7\n",
      "   FELLWALKER.NOISE=10.6175305017807\n",
      "   FELLWALKER.RMS=3.5391768339269\n",
      "\n",
      "\n"
     ]
    }
   ],
   "source": [
    "findclumps in=12co_integ.sdf out=12co_integ_clumps.sdf outcat=12co_integ_clumps.FIT method=FellWalker \\\n",
    "config='\"FellWalker.minheight=5*RMS,FellWalker.MINDIP=5*RMS,FellWalker.CleanIter=2,FellWalker.NOISE=3*RMS\"' accept"
   ]
  },
  {
   "cell_type": "markdown",
   "metadata": {},
   "source": [
    "We can use display and outline clumps to produce a map of the clumps. We are using the `acucmulating postscript` graphics device for KAPPA here, so that it will first display the integrated map and then contour the clumps on top of it. Alternatively, you can use Gaia and contour the output file over the input file interactively.\n",
    "\n",
    "First we create the base image and set the current graphics device to our output file and the AVCPS device."
   ]
  },
  {
   "cell_type": "code",
   "execution_count": 9,
   "metadata": {},
   "outputs": [
    {
     "name": "stdout",
     "output_type": "stream",
     "text": [
      "Data will be scaled from 24.4844436645508 to 177.155227661133.\n",
      "\n",
      "All output will go to file integ_clumps.eps by default. Each subsequent\n",
      "graphics command will append output to any existing file with this name.\n",
      "\n"
     ]
    }
   ],
   "source": [
    "display in=12co_integ.sdf dev=integ_clumps.eps/AVCPS style=^style.dat low=0.0 mode=faint\n",
    "gdset integ_clumps.eps/AVCPS"
   ]
  },
  {
   "cell_type": "markdown",
   "metadata": {},
   "source": [
    "Now we can outline the clumps using CUPID's `outlineclump` routine."
   ]
  },
  {
   "cell_type": "code",
   "execution_count": 10,
   "metadata": {},
   "outputs": [
    {
     "name": "stdout",
     "output_type": "stream",
     "text": [
      "Plotting clump index 1\n",
      "Alignment has occurred within the PIXEL Domain.\n",
      "\n",
      "Plotting clump index 2\n",
      "Alignment has occurred within the PIXEL Domain.\n",
      "\n",
      "Plotting clump index 3\n",
      "Alignment has occurred within the PIXEL Domain.\n",
      "\n",
      "Plotting clump index 4\n",
      "Alignment has occurred within the PIXEL Domain.\n",
      "\n",
      "Plotting clump index 5\n",
      "Alignment has occurred within the PIXEL Domain.\n",
      "\n",
      "Plotting clump index 6\n",
      "Alignment has occurred within the PIXEL Domain.\n",
      "\n",
      "Plotting clump index 7\n",
      "Alignment has occurred within the PIXEL Domain.\n",
      "\n",
      "Plotting clump index 8\n",
      "Alignment has occurred within the PIXEL Domain.\n",
      "\n",
      "Plotting clump index 9\n",
      "Alignment has occurred within the PIXEL Domain.\n",
      "\n",
      "Plotting clump index 10\n",
      "Alignment has occurred within the PIXEL Domain.\n",
      "\n",
      "Plotting clump index 11\n",
      "Alignment has occurred within the PIXEL Domain.\n",
      "\n",
      "Plotting clump index 12\n",
      "Alignment has occurred within the PIXEL Domain.\n",
      "\n",
      "Plotting clump index 13\n",
      "Alignment has occurred within the PIXEL Domain.\n",
      "\n",
      "Plotting clump index 14\n",
      "Alignment has occurred within the PIXEL Domain.\n",
      "\n",
      "Plotting clump index 15\n",
      "Alignment has occurred within the PIXEL Domain.\n",
      "\n",
      "Plotting clump index 16\n",
      "Alignment has occurred within the PIXEL Domain.\n",
      "\n",
      "Plotting clump index 17\n",
      "Alignment has occurred within the PIXEL Domain.\n",
      "\n",
      "Plotting clump index 18\n",
      "Alignment has occurred within the PIXEL Domain.\n",
      "\n",
      "Plotting clump index 19\n",
      "Alignment has occurred within the PIXEL Domain.\n",
      "\n",
      "Plotting clump index 20\n",
      "Alignment has occurred within the PIXEL Domain.\n",
      "\n",
      "Plotting clump index 21\n",
      "Alignment has occurred within the PIXEL Domain.\n",
      "\n",
      "Plotting clump index 22\n",
      "Alignment has occurred within the PIXEL Domain.\n",
      "\n",
      "Plotting clump index 23\n",
      "Alignment has occurred within the PIXEL Domain.\n",
      "\n",
      "Plotting clump index 24\n",
      "Alignment has occurred within the PIXEL Domain.\n",
      "\n",
      "Plotting clump index 25\n",
      "Alignment has occurred within the PIXEL Domain.\n",
      "\n",
      "Plotting clump index 26\n",
      "Alignment has occurred within the PIXEL Domain.\n",
      "\n",
      "Plotting clump index 27\n",
      "Alignment has occurred within the PIXEL Domain.\n",
      "\n"
     ]
    }
   ],
   "source": [
    "outlineclump ndf=12co_integ_clumps.sdf index=1-27"
   ]
  },
  {
   "cell_type": "markdown",
   "metadata": {},
   "source": [
    "We'll convert that to a PNG so we can display it in the notebook (requires ImageMagick's convert to be installed -- here we use the shell `command` to ensure we search the general `$PATH` for the command convert, instead of picking up the Starlink `convert` package from our setup scripts."
   ]
  },
  {
   "cell_type": "code",
   "execution_count": 12,
   "metadata": {},
   "outputs": [],
   "source": [
    "command convert integ_clumps.eps -trim integ_clumps.png"
   ]
  },
  {
   "cell_type": "markdown",
   "metadata": {},
   "source": [
    "![Clump outlines](Clumpfinding/integ_clumps.png)"
   ]
  },
  {
   "cell_type": "markdown",
   "metadata": {},
   "source": [
    "Each of these clumps is stored in a *extension* inside the output NDF from our initial `findclumps` command. We can copy out an individual clump using the `ndfcopy` command in KAPPA. If you use the `hdstrace` command you can see the full structure of the NDF file and any extensions within it:"
   ]
  },
  {
   "cell_type": "code",
   "execution_count": 13,
   "metadata": {},
   "outputs": [
    {
     "name": "stdout",
     "output_type": "stream",
     "text": [
      "\n",
      "12CO_INTEG_CLUM  <NDF>\n",
      "\n",
      "   DATA_ARRAY     <ARRAY>         {structure}\n",
      "      ORIGIN(2)      <_INTEGER>      -2625,11\n",
      "      DATA(171,139)  <_INTEGER>      19,19,19,19,19,19,19,19,19,19,19,14,14,\n",
      "                                     18,18,18,18,18,*,*,*,*,*,*,18,18,18,18\n",
      "\n",
      "   TITLE          <_CHAR*19>      'Galactic plane 30.0'\n",
      "   LABEL          <_CHAR*57>      'T%<s60>+%<v30>+A%^50+%<20+*%+   corrected\n",
      "ant...'\n",
      "   WCS            <WCS>           {structure}\n",
      "      DATA(173)      <_CHAR*32>      ' Begin FrameSet',' Nframe = 5',' Curr...'\n",
      "                                     ... ' End...',' End CmpMap',' End FrameSet'\n",
      "\n",
      "   HISTORY        <HISTORY>       {structure}\n",
      "      CREATED        <_CHAR*24>      '2012-OCT-13 16:06:57.666'\n",
      "      CURRENT_RECORD  <_INTEGER>     30\n",
      "      UPDATE_MODE    <_CHAR*8>       'NORMAL'\n",
      "      RECORDS(34)    <HIST_REC>      {array of structures}\n",
      "\n",
      "      Contents of RECORDS(1)\n",
      "         COMMAND        <_CHAR*30>      'MAKECUBE        (SMURF V1.5.0)'\n",
      "         DATASET        <_CHAR*60>      '/export/data/visitors/mjc/acsis/jps...'\n",
      "         DATE           <_CHAR*24>      '2012-OCT-13 16:06:57.776'\n",
      "         HOST           <_CHAR*6>       'ikaika'\n",
      "         TEXT(20)       <_CHAR*72>      'Parameters: ALIGNSYS=FALSE AUTOGRI...'\n",
      "                                        ... '   a20110607_00055_01_bl002, a2...'\n",
      "         USER           <_CHAR*3>       'mjc'\n",
      "\n",
      "   MORE           <EXT>           {structure}\n",
      "      FITS(253)      <_CHAR*80>      'SIMPLE  =                    T / file...'\n",
      "                                     ... 'DATASUM = '3842980826'      ...','END'\n",
      "      CUPID          <CUPID_EXT>     {structure}\n",
      "         CLUMPS(27)     <CLUMP>         {array of structures}\n",
      "\n",
      "         Contents of CLUMPS(1)\n",
      "            PEAK1          <_DOUBLE>       34.254821430877\n",
      "            PEAK2          <_DOUBLE>       0.15326273212263\n",
      "            CEN1           <_DOUBLE>       34.259453896913\n",
      "            CEN2           <_DOUBLE>       0.1480484312024\n",
      "            SIZE1          <_DOUBLE>       31.83049371695\n",
      "            SIZE2          <_DOUBLE>       23.425359869816\n",
      "            SUM            <_DOUBLE>       29404.480075836\n",
      "            PEAK           <_DOUBLE>       213.23951548951\n",
      "            VOLUME         <_DOUBLE>       11746.23953899\n",
      "            MODEL          <NDF>           {structure}\n",
      "               DATA_ARRAY     <ARRAY>         {structure}\n",
      "                  DATA(26,18)    <_DOUBLE>       *,*,*,*,*,*,*,*,*,*,*,*,*,\n",
      "                                                 ... *,*,*,*,*,*,*,*,*,*,*,*\n",
      "                  ORIGIN(2)      <_INTEGER>      -2572,79\n",
      "\n",
      "         QUALITY_NAMES  <QUALITY_NAMES>   {structure}\n",
      "            QUAL(8)        <IRQ_QUAL>      {array of structures}\n",
      "\n",
      "            Contents of QUAL(1)\n",
      "               NAME           <_CHAR*15>      'CLUMP'\n",
      "               FIXED          <_LOGICAL>      FALSE\n",
      "               VALUE          <_LOGICAL>      FALSE\n",
      "               BIT            <_INTEGER>      7\n",
      "               COMMENT        <_CHAR*50>      'set iff a pixel is within a c...'\n",
      "               READONLY       <_LOGICAL>      FALSE\n",
      "               FIXED_BIT      <_LOGICAL>      FALSE\n",
      "\n",
      "            LAST_USED      <_INTEGER>      3\n",
      "            NFREE          <_INTEGER>      5\n",
      "            FREE(8)        <_INTEGER>      8,7,6,5,4,0,0,0\n",
      "            VALID          <_LOGICAL>      TRUE\n",
      "\n",
      "         CONFIG(13)     <_CHAR*38>      'FELLWALKER.ALLOWEDGE=1','FELLWALKE...'\n",
      "                                        'FELLWALKER.RMS=3.5391768339269'\n",
      "\n",
      "   QUALITY        <QUALITY>       {structure}\n",
      "      QUALITY        <ARRAY>         {structure}\n",
      "         DATA(171,139)  <_UBYTE>        64,64,64,64,64,64,64,64,64,64,64,64,\n",
      "                                        ... 128,128,128,128,128,128,96,64,64,64\n",
      "         ORIGIN(2)      <_INTEGER>      -2625,11\n",
      "         BAD_PIXEL      <_LOGICAL>      FALSE\n",
      "\n",
      "End of Trace.\n",
      "\n"
     ]
    }
   ],
   "source": [
    "hdstrace 12co_integ_clumps.sdf"
   ]
  },
  {
   "cell_type": "markdown",
   "metadata": {},
   "source": [
    "Here the CLUMPS are contained in an extension `MORE.CUPID.CLUMPS`, and each individual clump is then found as e.g. `MORE.CUPID.CLUMPS\\(3\\)` for the 3rd CLUMP. (The backslashes, `\\` are used here to *escape* the brackets so they are not interpreted by the shell we are typing this in.)\n",
    "\n",
    "Each of these clumps is itself a valid NDF, and we can use all our normal tools to look at it. E.g., `stats` and `display`:"
   ]
  },
  {
   "cell_type": "code",
   "execution_count": 14,
   "metadata": {},
   "outputs": [
    {
     "name": "stdout",
     "output_type": "stream",
     "text": [
      "\n",
      "   Pixel statistics for the NDF structure\n",
      "/export/data/sgraves/Tutorials/AnalysisHowTos/Clumpfinding/12co_integ_clumps.MO\n",
      "RE.CUPID.CLUMPS(1).MODEL\n",
      "\n",
      "      Title                     : <undefined>\n",
      "      NDF array analysed        : DATA\n",
      "\n",
      "         Pixel sum              : 29404.4800758362\n",
      "         Pixel mean             : 89.3753193794412\n",
      "         Standard deviation     : 30.0751660390696\n",
      "         Skewness               : 1.45206166742115\n",
      "         Kurtosis               : 2.43735732429543\n",
      "         Minimum pixel value    : 43.6652069091797\n",
      "            At pixel            : (-2554, 85)\n",
      "            Co-ordinate         : (-2554.5, 84.5)\n",
      "         Maximum pixel value    : 205.800048828125\n",
      "            At pixel            : (-2557, 93)\n",
      "            Co-ordinate         : (-2557.5, 92.5)\n",
      "         Total number of pixels : 468\n",
      "         Number of pixels used  : 329 (70.3%)\n",
      "         No. of pixels excluded : 139 (29.7%)\n",
      "\n"
     ]
    }
   ],
   "source": [
    "stats 12co_integ_clumps.sdf.MORE.CUPID.CLUMPS\\(1\\)"
   ]
  },
  {
   "cell_type": "code",
   "execution_count": 15,
   "metadata": {},
   "outputs": [
    {
     "name": "stdout",
     "output_type": "stream",
     "text": [
      "Data will be scaled from 59.2543419777079 to 300.222161191575.\n"
     ]
    }
   ],
   "source": [
    "lutwarm device=clump1.png/PNG\n",
    "display 12co_integ_clumps.sdf.MORE.CUPID.CLUMPS\\(1\\) device=clump1.png/PNG style=^style.dat mode=faint"
   ]
  },
  {
   "cell_type": "markdown",
   "metadata": {},
   "source": [
    "![Image of brightest clump found](Clumpfinding/clump1.png)"
   ]
  },
  {
   "cell_type": "markdown",
   "metadata": {},
   "source": [
    "The pixel axes corresponds to the pixel values in the original file it was run on. The data values are the original data values."
   ]
  },
  {
   "cell_type": "markdown",
   "metadata": {},
   "source": [
    "## Clumpfinding in 3D\n",
    "\n",
    "3D clumpfinding works exactly the same as clumpfinding in 2D. However, it can be harder to visualise the clumps. We recommend using Gaia to interactively visualise the clumps where you can scroll through the frequencies within one clump."
   ]
  }
 ],
 "metadata": {
  "kernelspec": {
   "display_name": "Bash",
   "language": "bash",
   "name": "bash"
  },
  "language_info": {
   "codemirror_mode": "shell",
   "file_extension": ".sh",
   "mimetype": "text/x-sh",
   "name": "bash"
  },
  "toc": {
   "base_numbering": 1,
   "nav_menu": {},
   "number_sections": true,
   "sideBar": true,
   "skip_h1_title": false,
   "title_cell": "Table of Contents",
   "title_sidebar": "Contents",
   "toc_cell": false,
   "toc_position": {},
   "toc_section_display": true,
   "toc_window_display": false
  }
 },
 "nbformat": 4,
 "nbformat_minor": 2
}
