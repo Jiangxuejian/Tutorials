{
 "cells": [
  {
   "cell_type": "markdown",
   "metadata": {},
   "source": [
    "# Calculating Excitation Temperatures from 12CO cube"
   ]
  },
  {
   "cell_type": "markdown",
   "metadata": {},
   "source": [
    "Ignoring self absorption and assuming infinite optical depth and Local Thermodynamic Equilibrium, it is possible to estimate the excitation temperature of a line from:"
   ]
  },
  {
   "cell_type": "markdown",
   "metadata": {},
   "source": [
    "$$T_{B} =\\frac{h\\nu}{k_B} \\left( \\frac{1}{\\exp[h\\nu/k_{B}T_{ex}]} - \\frac{1}{\\exp[h\\nu/k_{B}T_{CMB}]}\\right)$$\n",
    "\n",
    "Where $T_{B}$ is the RJ brightness temperature of the line, $\\nu$ is the frequency of the line, $T_{CMB}$ is the CMB temperature, and $T_{ex}$ is the excitation temperature of the line.\n",
    "\n",
    "We can use the peak temperature measured in our cube as the RJ brightness temperature $T_{B}$. For $^{12}$CO J=3$\\rightarrow$2 as observed with HARP, we can then simplify and rearrange this formula to:\n",
    "\n",
    "$$T_{ex} = \\frac{16.59\\,K}{ln\\left(1 + \\frac{16.59\\,K}{T_{peak} + 0.036\\,K}\\right)}$$\n",
    "\n",
    "To calculate this, we need a 12CO cube, which we will then get the peak temperature of each spectra in it. We then need to apply the above formula to this. This tutorial will take you through the steps of doing this within Starlink."
   ]
  },
  {
   "cell_type": "markdown",
   "metadata": {},
   "source": [
    "First of all, we must set up Starlink, change into our working directory, and initialise the KAPPA package of commands. We will also tell Starlink not to prompt us for user input, as we are working inside a jupyter notebook. (You should replace the `/star` with the correct location of your Starlink installation directory.)"
   ]
  },
  {
   "cell_type": "code",
   "execution_count": 1,
   "metadata": {},
   "outputs": [
    {
     "name": "stdout",
     "output_type": "stream",
     "text": [
      "\n",
      "\n",
      "     KAPPA commands are now available -- (Version 2.5-8)\n",
      "\n",
      "     Type kaphelp for help on KAPPA commands.\n",
      "     Type 'showme sun95' to browse the hypertext documentation.\n",
      "\n",
      "     See the 'Release Notes' section of SUN/95 for details of the\n",
      "     changes made for this release.\n",
      "\n",
      "   \n"
     ]
    }
   ],
   "source": [
    "export STARLINK_DIR=/star\n",
    "source $STARLINK_DIR/etc/profile\n",
    "export ADAM_NOPROMPT=1\n",
    "mkdir CubeAnalysis\n",
    "cd CubeAnalysis\n",
    "kappa"
   ]
  },
  {
   "cell_type": "markdown",
   "metadata": {},
   "source": [
    "We can then collapse our 12CO cube along the velocity axis. We want to end up with a 2-D cube where the pixel values are the max pixel value found in that spectra. We can use the command [`collapse`](http://starlink.eao.hawaii.edu/cgi-bin/htxserver/sun95.htx/sun95.html?xref_COLLAPSE) with the `estimator=max` option."
   ]
  },
  {
   "cell_type": "code",
   "execution_count": 2,
   "metadata": {},
   "outputs": [
    {
     "name": "stdout",
     "output_type": "stream",
     "text": [
      "   Collapsing pixel axis 3 from pixel -65 to pixel 121 inclusive...\n",
      "\n"
     ]
    }
   ],
   "source": [
    "collapse in=../Data/g34-3-12co_small_trim.sdf axis=VRAD estimator=max out=g34-3-12co_peakcoll.sdf WLIM=0.0"
   ]
  },
  {
   "cell_type": "markdown",
   "metadata": {},
   "source": [
    "Lets take a quick look at what this map looks like,  using KAPPA's `display` command, and setting some defaults appropriate for PNG output."
   ]
  },
  {
   "cell_type": "code",
   "execution_count": 3,
   "metadata": {},
   "outputs": [
    {
     "name": "stdout",
     "output_type": "stream",
     "text": [
      "Data will be scaled from 1.20042586326599 to 22.0331649780273.\n"
     ]
    }
   ],
   "source": [
    "lutwarm dev=peak.png/PNG\n",
    "palentry 0 White device=PNG\n",
    "palentry 1 Black device=PNG\n",
    "echo 'border=1' > style.dat\n",
    "echo 'color(border) = black' >>style.dat\n",
    "echo 'color(numlab) = black' >>style.dat\n",
    "echo 'color(ticks) = grey' >>style.dat\n",
    "display in=g34-3-12co_peakcoll.sdf style=^style.dat dev=peak.png/PNG mode=faint"
   ]
  },
  {
   "cell_type": "markdown",
   "metadata": {},
   "source": [
    "![Peak 12CO emission](CubeAnalysis/peak.png)"
   ]
  },
  {
   "cell_type": "markdown",
   "metadata": {},
   "source": [
    "Before we calculate our excitation temperature, lets check what temperature scale our data is in. We can check the `label` attribute of the NDF, as shown by `ndftrace`."
   ]
  },
  {
   "cell_type": "code",
   "execution_count": 4,
   "metadata": {},
   "outputs": [
    {
     "name": "stdout",
     "output_type": "stream",
     "text": [
      "\n",
      "   NDF structure\n",
      "/export/data/sgraves/Tutorials/AnalysisHowTos/CubeAnalysis/g34-3-12co_peakcoll:\n",
      "\n",
      "      Title:  Galactic plane 30.0\n",
      "      Label:  TA*   corrected antenna temperature\n",
      "      Units:  K\n",
      "\n",
      "   Shape:\n",
      "      No. of dimensions:  2\n",
      "      Dimension size(s):  171 x 139\n",
      "      Pixel bounds     :  -2625:-2455, 11:149\n",
      "      Total pixels     :  23769\n",
      "\n",
      "   Data Component:\n",
      "      Type        :  _REAL\n",
      "      Storage form:  SIMPLE\n",
      "      Bad pixels may be present\n",
      "\n",
      "   Variance Component:\n",
      "      Type        :  _REAL\n",
      "      Storage form:  SIMPLE\n",
      "      Bad pixels may be present\n",
      "\n",
      "   World Co-ordinate Systems:\n",
      "      Number of co-ordinate Frames: 5\n",
      "\n",
      "      Current co-ordinate Frame (Frame 5):\n",
      "\n",
      "        Frame title         : \"IAU (1958) galactic coordinates; gnom...\"\n",
      "        Domain              : SKY\n",
      "        First pixel centre  : 34.3675, 0.0170\n",
      "\n",
      "           Axis 1:\n",
      "              Label              : Galactic longitude\n",
      "              Units              : degrees\n",
      "              Nominal Pixel scale: 5.96741 arc-sec\n",
      "\n",
      "           Axis 2:\n",
      "              Label              : Galactic latitude\n",
      "              Units              : degrees\n",
      "              Nominal Pixel scale: 5.98365 arc-sec\n",
      "\n",
      "\n",
      "   Extensions:\n",
      "      FITS             <_CHAR*80>\n",
      "\n",
      "\n",
      "   History Component:\n",
      "      Created    :  2012 Oct 13 16:06:57\n",
      "      No. records:  29\n",
      "      Last update:  2019 Nov 01 00:42:25 (COLLAPSE        (KAPPA 2.5-8))\n",
      "      Update mode:  NORMAL\n",
      "\n"
     ]
    }
   ],
   "source": [
    "ndftrace g34-3-12co_peakcoll.sdf"
   ]
  },
  {
   "cell_type": "markdown",
   "metadata": {},
   "source": [
    "You can see it is $T^*_A$ temperature scale, in units of $K$.\n",
    "\n",
    "We now need to apply a standard calibration to go from the $T^*_A$ (corrected antenna temperature) scale to a telescope-independent scale. We will use $\\eta_{MB}$, which allows us to convert to main beam temperature, which assumes a source that fills the beam. For HARP, we use the standard value of $\\eta_{MB}=0.67$. We need to multiply by the efficiency (`cmult`) and set the new temperature scale into the `label` attribute of the NDF."
   ]
  },
  {
   "cell_type": "code",
   "execution_count": 5,
   "metadata": {},
   "outputs": [],
   "source": [
    "cmult in=g34-3-12co_peakcoll.sdf scalar=0.67 out=12co_peakcoll_tmb.sdf\n",
    "setlabel ndf=12co_peakcoll_tmb.sdf label='\"T_MB Main Beam temperature\"'"
   ]
  },
  {
   "cell_type": "markdown",
   "metadata": {},
   "source": [
    "You can check that this has updated the label by rerunning ndftrace:"
   ]
  },
  {
   "cell_type": "code",
   "execution_count": 6,
   "metadata": {},
   "outputs": [
    {
     "name": "stdout",
     "output_type": "stream",
     "text": [
      "      \u001b[01;31m\u001b[KLabel\u001b[m\u001b[K:  T_MB Main Beam temperature\n",
      "              \u001b[01;31m\u001b[KLabel\u001b[m\u001b[K              : Galactic longitude\n",
      "              \u001b[01;31m\u001b[KLabel\u001b[m\u001b[K              : Galactic latitude\n"
     ]
    }
   ],
   "source": [
    "ndftrace 12co_peakcoll_tmb.sdf |grep Label"
   ]
  },
  {
   "cell_type": "markdown",
   "metadata": {},
   "source": [
    "In practice, we probably don't want to include points with a poor detection. We can use [`errclip`](http://starlink.eao.hawaii.edu/cgi-bin/htxserver/sun95.htx/sun95.html?xref_ERRCLIP) to set as BAD all pixels without a SNR of 5."
   ]
  },
  {
   "cell_type": "code",
   "execution_count": 7,
   "metadata": {},
   "outputs": [
    {
     "name": "stdout",
     "output_type": "stream",
     "text": [
      "\n",
      "  Applying a lower limit on signal-to-noise ratio.\n",
      "  3846 pixels had signal-to-noise ratios less than 5 in\n",
      "\"/export/data/sgraves/Tutorials/AnalysisHowTos/CubeAnalysis/12co_peakcoll_tmb\".\n",
      "\n"
     ]
    }
   ],
   "source": [
    "errclip in=12co_peakcoll_tmb.sdf out=12co_peakcoll_tmb_clip limit=5.0 mode=SNR"
   ]
  },
  {
   "cell_type": "markdown",
   "metadata": {},
   "source": [
    "We can now calculate our excitation temperature in each pixel. The [maths](http://starlink.eao.hawaii.edu/cgi-bin/htxserver/sun95.htx/sun95.html?xref_MATHS) command lets us apply an arbitrary mathematical formula to our map. To apply the formula above, we use:"
   ]
  },
  {
   "cell_type": "code",
   "execution_count": 8,
   "metadata": {},
   "outputs": [],
   "source": [
    "maths exp=\"pa/(log(1+pa/(ia+pb)))\" pa=16.59 pb=0.036 ia=12co_peakcoll_tmb_clip.sdf out=12co_excitation_temp.sdf"
   ]
  },
  {
   "cell_type": "markdown",
   "metadata": {},
   "source": [
    "The `exp` (expression) argument defines the mathemtaical function (using fortran style syntax). The parameters `pa` and `pb` refer to constants, and `ia` refers to an input NDF. These are then given as separate argument to the command.  This is a very powerful command, that can take up to 26 separate constant parameters and up to 26 (`ia`, `ib` ... `iz`) input NDFs.\n",
    "\n",
    "We can now display the excitation temperature map we have made:"
   ]
  },
  {
   "cell_type": "code",
   "execution_count": 9,
   "metadata": {},
   "outputs": [
    {
     "name": "stdout",
     "output_type": "stream",
     "text": [
      "Data will be scaled from 6.06278371810913 to 24.4193801879883.\n"
     ]
    }
   ],
   "source": [
    "palentry 0 White dev=PNG\n",
    "palentry 1 Black dev=PNG\n",
    "lutheat dev=PNG\n",
    "display in=12co_excitation_temp.sdf style=^style.dat device=Tex.png/PNG accept"
   ]
  },
  {
   "cell_type": "markdown",
   "metadata": {},
   "source": [
    "![Excitation Temperature from 12CO](CubeAnalysis/Tex.png)"
   ]
  },
  {
   "cell_type": "markdown",
   "metadata": {},
   "source": [
    "We can then calculate the histogram of these data points using the [`histogram`](http://starlink.eao.hawaii.edu/cgi-bin/htxserver/sun95.htx/sun95.html?xref_HISTOGRAM) command, with 100 bins and using the same `style.dat` file as we used before. This command will create a plot of the histogram, and also print information to screen about the bins and the number of pixels in each one."
   ]
  },
  {
   "cell_type": "code",
   "execution_count": 10,
   "metadata": {},
   "outputs": [
    {
     "name": "stdout",
     "output_type": "stream",
     "text": [
      "Minimum value is 5.0616497993469 and the maximum is 25.261287689209\n",
      "Data limits are from 5.06164979934692 to 25.261287689209.\n",
      "\n",
      "   Histogram for the NDF structure\n",
      "/export/data/sgraves/Tutorials/AnalysisHowTos/CubeAnalysis/12co_excitation_temp\n",
      "\n",
      "\n",
      "      Title                     : Galactic plane 30.0\n",
      "      NDF array analysed        : Data\n",
      "\n",
      "\n",
      "    5.061650     to   5.263646            8 pixels\n",
      "    5.263646     to   5.465642           14 pixels\n",
      "    5.465642     to   5.667639           40 pixels\n",
      "    5.667639     to   5.869636          131 pixels\n",
      "    5.869636     to   6.071631          280 pixels\n",
      "    6.071631     to   6.273628          489 pixels\n",
      "    6.273628     to   6.475625          821 pixels\n",
      "    6.475625     to   6.677621         1152 pixels\n",
      "    6.677621     to   6.879617         1412 pixels\n",
      "    6.879617     to   7.081614         1456 pixels\n",
      "    7.081614     to   7.283610         1509 pixels\n",
      "    7.283610     to   7.485606         1423 pixels\n",
      "    7.485606     to   7.687603         1283 pixels\n",
      "    7.687603     to   7.889599         1140 pixels\n",
      "    7.889599     to   8.091596         1028 pixels\n",
      "    8.091596     to   8.293592          835 pixels\n",
      "    8.293592     to   8.495588          748 pixels\n",
      "    8.495588     to   8.697584          683 pixels\n",
      "    8.697584     to   8.899581          533 pixels\n",
      "    8.899581     to   9.101578          506 pixels\n",
      "    9.101578     to   9.303574          411 pixels\n",
      "    9.303574     to   9.505570          374 pixels\n",
      "    9.505570     to   9.707567          348 pixels\n",
      "    9.707567     to   9.909563          272 pixels\n",
      "    9.909563     to   10.11156          252 pixels\n",
      "    10.11156     to   10.31356          241 pixels\n",
      "    10.31356     to   10.51555          191 pixels\n",
      "    10.51555     to   10.71755          181 pixels\n",
      "    10.71755     to   10.91955          144 pixels\n",
      "    10.91955     to   11.12154          136 pixels\n",
      "    11.12154     to   11.32354          143 pixels\n",
      "    11.32354     to   11.52553          108 pixels\n",
      "    11.52553     to   11.72753           93 pixels\n",
      "    11.72753     to   11.92953          102 pixels\n",
      "    11.92953     to   12.13152           84 pixels\n",
      "    12.13152     to   12.33352           75 pixels\n",
      "    12.33352     to   12.53552           82 pixels\n",
      "    12.53552     to   12.73751           58 pixels\n",
      "    12.73751     to   12.93951           59 pixels\n",
      "    12.93951     to   13.14150           67 pixels\n",
      "    13.14150     to   13.34350           71 pixels\n",
      "    13.34350     to   13.54550           57 pixels\n",
      "    13.54550     to   13.74749           62 pixels\n",
      "    13.74749     to   13.94949           44 pixels\n",
      "    13.94949     to   14.15149           52 pixels\n",
      "    14.15149     to   14.35348           38 pixels\n",
      "    14.35348     to   14.55548           43 pixels\n",
      "    14.55548     to   14.75748           39 pixels\n",
      "    14.75748     to   14.95947           30 pixels\n",
      "    14.95947     to   15.16147           29 pixels\n",
      "    15.16147     to   15.36347           28 pixels\n",
      "    15.36347     to   15.56546           35 pixels\n",
      "    15.56546     to   15.76746           26 pixels\n",
      "    15.76746     to   15.96945           26 pixels\n",
      "    15.96945     to   16.17145           32 pixels\n",
      "    16.17145     to   16.37345           32 pixels\n",
      "    16.37345     to   16.57544           33 pixels\n",
      "    16.57544     to   16.77744           22 pixels\n",
      "    16.77744     to   16.97944           33 pixels\n",
      "    16.97944     to   17.18143           30 pixels\n",
      "    17.18143     to   17.38343           17 pixels\n",
      "    17.38343     to   17.58543           23 pixels\n",
      "    17.58543     to   17.78742           19 pixels\n",
      "    17.78742     to   17.98942           17 pixels\n",
      "    17.98942     to   18.19142           16 pixels\n",
      "    18.19142     to   18.39341           12 pixels\n",
      "    18.39341     to   18.59541           14 pixels\n",
      "    18.59541     to   18.79740           16 pixels\n",
      "    18.79740     to   18.99940            9 pixels\n",
      "    18.99940     to   19.20140           12 pixels\n",
      "    19.20140     to   19.40339           10 pixels\n",
      "    19.40339     to   19.60539           16 pixels\n",
      "    19.60539     to   19.80739            5 pixels\n",
      "    19.80739     to   20.00938            6 pixels\n",
      "    20.00938     to   20.21138            4 pixels\n",
      "    20.21138     to   20.41338            6 pixels\n",
      "    20.41338     to   20.61537            2 pixels\n",
      "    20.61537     to   20.81737            4 pixels\n",
      "    20.81737     to   21.01936            2 pixels\n",
      "    21.01936     to   21.22136            5 pixels\n",
      "    21.22136     to   21.42336            3 pixels\n",
      "    21.42336     to   21.62535            8 pixels\n",
      "    21.62535     to   21.82735            4 pixels\n",
      "    21.82735     to   22.02935            3 pixels\n",
      "    22.02935     to   22.23134            4 pixels\n",
      "    22.23134     to   22.43334            1 pixels\n",
      "    22.43334     to   22.63533            2 pixels\n",
      "    22.63533     to   22.83733            0 pixels\n",
      "    22.83733     to   23.03933            0 pixels\n",
      "    23.03933     to   23.24132            2 pixels\n",
      "    23.24132     to   23.44332            0 pixels\n",
      "    23.44332     to   23.64532            1 pixels\n",
      "    23.64532     to   23.84731            1 pixels\n",
      "    23.84731     to   24.04931            2 pixels\n",
      "    24.04931     to   24.25131            0 pixels\n",
      "    24.25131     to   24.45330            0 pixels\n",
      "    24.45330     to   24.65530            1 pixels\n",
      "    24.65530     to   24.85730            0 pixels\n",
      "    24.85730     to   25.05929            0 pixels\n",
      "    25.05929     to   25.26129            2 pixels\n",
      "\n"
     ]
    }
   ],
   "source": [
    "histogram 12co_excitation_temp 100  style=^style.dat accept dev=Tex_histogram.png/PNG"
   ]
  },
  {
   "cell_type": "markdown",
   "metadata": {},
   "source": [
    "![Histogram of excitation temperatures in K](CubeAnalysis/Tex_histogram.png)"
   ]
  },
  {
   "cell_type": "code",
   "execution_count": null,
   "metadata": {},
   "outputs": [],
   "source": []
  }
 ],
 "metadata": {
  "kernelspec": {
   "display_name": "Bash",
   "language": "bash",
   "name": "bash"
  },
  "language_info": {
   "codemirror_mode": "shell",
   "file_extension": ".sh",
   "mimetype": "text/x-sh",
   "name": "bash"
  },
  "toc": {
   "base_numbering": 1,
   "nav_menu": {},
   "number_sections": true,
   "sideBar": true,
   "skip_h1_title": false,
   "title_cell": "Table of Contents",
   "title_sidebar": "Contents",
   "toc_cell": false,
   "toc_position": {},
   "toc_section_display": true,
   "toc_window_display": false
  }
 },
 "nbformat": 4,
 "nbformat_minor": 2
}
