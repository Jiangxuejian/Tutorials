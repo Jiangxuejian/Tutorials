{
 "cells": [
  {
   "cell_type": "markdown",
   "metadata": {},
   "source": [
    "# Calculating fluxes from SCUBA-2 maps\n",
    "\n",
    "One common task JCMT scientists carry out is estimating the dust mass or column density from the emission in a SCUBA-2 map. To do this, it is necessary to calculate the 850um dust flux of an object/field.\n",
    "\n",
    "\n",
    "## Caveats\n",
    "In general there are numerous scientific subtleties to which type of photometry is most appropriate for a given situation. Point sources are probably the most straight forward, followed by cases where you can integrate over an entire large area. The common (for galactic scientists) case of having extended structure throughout a large map, and hoping to break it down into separate structures lends itself to a clumpfinding approach, a filament finding approach or attempting to convert your map into hierarchical structures.\n",
    "\n",
    "This guide will just quickly demonstrate some of the simpler cases and how to use Starlink software to calculate these. It is not a guide to which approach is appropriate for which scientific investigations, and it does not address the underlying uncertainties in these approaches.\n",
    "\n",
    "## Setting up starlink\n",
    "\n",
    "First of all, we have to set up Starlink and KAPPA as normal. We will also create a working directory and change into it, and ensure that Starlink won't try and prompt us for any values.\n",
    "\n",
    "(You should replace the `/star` in the first line below with the location of your Starlink installation directory: e.g. `~/star-2018A`)"
   ]
  },
  {
   "cell_type": "code",
   "execution_count": 1,
   "metadata": {},
   "outputs": [
    {
     "name": "stdout",
     "output_type": "stream",
     "text": [
      "\n",
      "\n",
      "     KAPPA commands are now available -- (Version 2.5-8)\n",
      "\n",
      "     Type kaphelp for help on KAPPA commands.\n",
      "     Type 'showme sun95' to browse the hypertext documentation.\n",
      "\n",
      "     See the 'Release Notes' section of SUN/95 for details of the\n",
      "     changes made for this release.\n",
      "\n",
      "   \n"
     ]
    }
   ],
   "source": [
    "export STARLINK_DIR=/star\n",
    "source $STARLINK_DIR/etc/profile\n",
    "export ADAM_NOPROMPT=1\n",
    "kappa\n",
    "mkdir S2Fluxes\n",
    "cd S2Fluxes/"
   ]
  },
  {
   "cell_type": "markdown",
   "metadata": {},
   "source": [
    "## Calibration units\n",
    "SCUBA-2 maps are normally calibrated by our pipeline into units of either mJy/beam or mJy/arcsec$^2$. If you need more detail on the calibration process, please see [Dempsey et al 2013](https://ui.adsabs.harvard.edu/abs/2013MNRAS.430.2534D/abstract), or our webpages at https://www.eaobservatory.org/jcmt/instrumentation/continuum/scuba-2/calibration.\n",
    "\n",
    "\n",
    "## Point sources\n",
    "If you want to find the flux of a point source, you would normally calibrate your map in units of Jy/beam. Each point source corresponds to one beam, and therefore the peak value in the source will tell you the total flux density of the source. \n",
    "\n",
    "\n",
    "For this example, we are going to use a calibrator observation of the bright point source CRL618, in the file `Data/jcmts20191022_00059_850_reduced001_nit_000.sdf`. You can download this file from CADC at this link [here](https://www.cadc-ccda.hia-iha.nrc-cnrc.gc.ca/data/pub/JCMT/jcmts20191022_00059_850_reduced001_nit_000.fits?RUNID=eaotutorial), or you can go to the JCMT Archive at CADC and download a reduced calibrator observation of your choice. If you download a file from the archive, you'll need to convert it from FITS format to NDF (see [`fits2ndf`](http://starlink.eao.hawaii.edu/cgi-bin/htxserver/sun55.htx/sun55.html?xref_FITS2NDF) in the `CONVERT` package), and please ensure it is a point source.\n",
    "\n",
    "The first step is to see what units your map is currently in. We can use the KAPPA command `ndftrace` to do this. (Here we have also used the shell command `head` to only show the first 10 lines)."
   ]
  },
  {
   "cell_type": "code",
   "execution_count": 2,
   "metadata": {},
   "outputs": [
    {
     "name": "stdout",
     "output_type": "stream",
     "text": [
      "\n",
      "   NDF structure\n",
      "/export/data/sgraves/Tutorials/AnalysisHowTos/S2Fluxes/../Data/jcmts20191022_00\n",
      "059_850_reduced001_nit_000:\n",
      "      Title:  CRL618\n",
      "      Label:  Flux Density\n",
      "      Units:  mJy/beam\n",
      "\n",
      "   Shape:\n",
      "      No. of dimensions:  3\n"
     ]
    }
   ],
   "source": [
    "ndftrace ../Data/jcmts20191022_00059_850_reduced001_nit_000.sdf|head -n 10"
   ]
  },
  {
   "cell_type": "markdown",
   "metadata": {},
   "source": [
    "As you can see, this is already in mJy/beam, so we don't need to change the calibration. If we did, we would normally use the PICARD recipe `CALIBRATE_SCUBA2_DATA` with the recipe parameters `FCF_CALTYPE=BEAM,USEFCF=True`.\n"
   ]
  },
  {
   "cell_type": "markdown",
   "metadata": {},
   "source": [
    "\n",
    "\n",
    "The nature of JCMT scan patterns mean that we normally have areas of higher noise around the map. There is also a PICARD recipe that can crop that out, `CROP_SCUBA2_IMAGES`. Here we will call it asking for a circle of radius 250\". (Please note this requires all the input observations to a map to have been towards the same source, or it will be hard to predict where the mask will be centered.)"
   ]
  },
  {
   "cell_type": "code",
   "execution_count": 3,
   "metadata": {},
   "outputs": [
    {
     "name": "stdout",
     "output_type": "stream",
     "text": [
      "\u001b[34mPicard Says: No display will be used\n",
      "\u001b[0mUse of uninitialized value in subroutine entry at /star/bin/oracdr/src/lib/perl5/ORAC/Basic.pm line 155.\n",
      "\u001b[34mPicard Says: Pre-starting mandatory monoliths...\u001b[0m\u001b[34mDone\n",
      "\u001b[0m\u001b[35mChecking for next data file: /export/data/sgraves/Tutorials/AnalysisHowTos/S2Fluxes/../Data/jcmts20191022_00059_850_reduced001_nit_000.sdf\n",
      "\u001b[0m\u001b[33mStoring: jcmts20191022_00059_850_reduced001_nit_000\n",
      "\u001b[0mUse of uninitialized value in subroutine entry at /star/bin/oracdr/src/lib/perl5/ORAC/Group.pm line 419, <DATA> line 1676.\n",
      "\u001b[36mPicard Says: Creating temporary bad observation rules file\n",
      "\u001b[0m\u001b[34mA new group 20191022#0 has been created\n",
      "\u001b[0m\u001b[33mOverriding PICARD instrument class to PICARD_SCUBA2_850\n",
      "\u001b[0m\u001b[35mSorting Groups\n",
      "\u001b[0m\u001b[33mREDUCING: jcmts20191022_00059_850_reduced001_nit_000\n",
      "\u001b[0m\u001b[35mUsing recipe CROP_SCUBA2_IMAGES specified on command-line\n",
      "\u001b[0m\u001b[35mProcessing data for CRL618\n",
      "\u001b[0m\u001b[33m\n",
      "Calling _CROP_SCUBA2_IMAGE_: trim image to specified map size\n",
      "\u001b[0m\u001b[35mTrimming image to specified map size\n",
      "\u001b[0m\u001b[35mOutput image will be a circle of radius 250 arcsec\n",
      "\u001b[0m\u001b[35mMasking the weights and exposure time images...\n",
      "\u001b[0m\u001b[35mRemoving temporary files...\n",
      "\u001b[0m\u001b[35mChecking jcmts20191022_00059_850_reduced001_nit_000_tmpmask...\t\u001b[0m\u001b[31mRemoving\n",
      "\u001b[0m\u001b[35mChecking jcmts20191022_00059_850_reduced001_nit_000_crop...\t\u001b[0m\u001b[32mKeeping extension\n",
      "\u001b[0m\u001b[35mRecipe took 3.326 seconds to evaluate and execute.\n",
      "\n",
      "\u001b[0m\u001b[32mPicard processing complete\n",
      "\u001b[0m\u001b[32mProcessed one recipe which completed successfully\n",
      "\u001b[0m\u001b[31mExiting...\n",
      "\u001b[0m\u001b[35m\n",
      "\u001b[0m\u001b[31mPicard Says: Goodbye\n",
      "\u001b[0m"
     ]
    }
   ],
   "source": [
    "picard -log sf -nodisplay CROP_SCUBA2_IMAGES --recpars='CROP_METHOD=CIRCLE,MAP_RADIUS=250' \\\n",
    "    ../Data/jcmts20191022_00059_850_reduced001_nit_000.sdf"
   ]
  },
  {
   "cell_type": "markdown",
   "metadata": {},
   "source": [
    "The output file is `jcmts20191022_00059_850_reduced001_nit_000_crop`. We can now take a quick look at our map to make sure it looks sensible."
   ]
  },
  {
   "cell_type": "code",
   "execution_count": 5,
   "metadata": {},
   "outputs": [
    {
     "name": "stdout",
     "output_type": "stream",
     "text": [
      "Data will be scaled from -176.595628266717 to 1292.29450845203.\n"
     ]
    }
   ],
   "source": [
    "lutwarm dev=PNG\n",
    "palentry 0 white dev=PNG\n",
    "palentry 1 black dev=PNG\n",
    "\n",
    "display in=jcmts20191022_00059_850_reduced001_nit_000_crop dev=cropped.png/PNG mode=faint"
   ]
  },
  {
   "cell_type": "markdown",
   "metadata": {},
   "source": [
    "![Cropped image](S2Fluxes/cropped.png)"
   ]
  },
  {
   "cell_type": "markdown",
   "metadata": {},
   "source": [
    "### Point source fluxes\n",
    "\n",
    "\n",
    "You can get a quick and crude estimate of the flux of the point source by just \"reading off\" the peak flux in the source, using e.g. KAPPA's `stats`. The brightest pixel should roughly give you the flux of the source in mJy, assuming there is not a high background level."
   ]
  },
  {
   "cell_type": "code",
   "execution_count": 6,
   "metadata": {},
   "outputs": [
    {
     "name": "stdout",
     "output_type": "stream",
     "text": [
      "\n",
      "   Pixel statistics for the NDF structure\n",
      "/export/data/sgraves/Tutorials/AnalysisHowTos/S2Fluxes/jcmts20191022_00059_850_\n",
      "reduced001_nit_000_crop\n",
      "\n",
      "      Title                     : CRL618\n",
      "      NDF array analysed        : DATA\n",
      "\n",
      "         Pixel sum              : 1377520.68292101\n",
      "         Pixel mean             : 7.01563882312718\n",
      "         Standard deviation     : 183.610793724692\n",
      "         Skewness               : 9.51239441182121\n",
      "         Kurtosis               : 20.5026101428456\n",
      "         Minimum pixel value    : -866.451929473621\n",
      "            At pixel            : (-11, -213, 1)\n",
      "            Co-ordinate         : (4:42:54.7, 36:03:22, 352.6734)\n",
      "         Maximum pixel value    : 5556.1683556297\n",
      "            At pixel            : (1, -2, 1)\n",
      "            Co-ordinate         : (4:42:53.7, 36:06:53, 352.6734)\n",
      "         Total number of pixels : 250000\n",
      "         Number of pixels used  : 196350 (78.5%)\n",
      "         No. of pixels excluded : 53650 (21.5%)\n",
      "\n"
     ]
    }
   ],
   "source": [
    "stats jcmts20191022_00059_850_reduced001_nit_000_crop"
   ]
  },
  {
   "cell_type": "markdown",
   "metadata": {},
   "source": [
    "The peak pixel has a value of 5556.168 mJy/beam, corresponding to a source flux of 5.6 Jy. This is quite a bit higher than our website value of 4.89 ± 0.24 Jy/beam for the peak brightness (see https://www.eaobservatory.org/jcmt/instrumentation/continuum/scuba-2/calibration/calibrators/, but within the correct range.\n",
    "\n",
    "# Gaussian fit\n",
    "A better estimate would be to fit a 2-D Gaussian to the source and find the peak. We can do this with the KAPPA command [`beamfit`](http://starlink.eao.hawaii.edu/cgi-bin/htxserver/sun95.htx/sun95.html?xref_BEAMFIT). We take the initial coordinates to be the position of the max pixel, as found from `stats` above.\n"
   ]
  },
  {
   "cell_type": "code",
   "execution_count": 7,
   "metadata": {},
   "outputs": [
    {
     "name": "stdout",
     "output_type": "stream",
     "text": [
      "    Co-ordinates    : RA(hh:mm:ss.s) Dec(ddd:mm:ss)\n",
      "\n",
      "    Centre          : (4:42:53.7,36:06:53) +/- (0.020,0.017) arcsec\n",
      "    Offset          : 0.119 +/- 0.024 arcseconds from sky reference position\n",
      "    FWHM (major)    : 13.922 +/- 0.041 arcseconds\n",
      "    FWHM (minor)    : 13.019 +/- 0.040 arcseconds\n",
      "    Orientation     : 41.29 +/- 0.302E-01 degrees (measured from North through East)\n",
      "    Amplitude       : 5544.8441824542 +/- 16.4217721767325\n",
      "    Background      : 1.21604628436329 +/- 0.266401816206429\n",
      "    Shape exponent  : 2.000\n",
      "\n",
      "    RMS fit error   : 117.796970900288\n",
      "\n",
      "\n"
     ]
    }
   ],
   "source": [
    "beamfit ndf=jcmts20191022_00059_850_reduced001_nit_000_crop mode=interface pos='\"4:42:53.7,36:06:53\"' beams=1"
   ]
  },
  {
   "cell_type": "markdown",
   "metadata": {},
   "source": [
    "From the amplitude value, this gives a flux of 5.54+/-0.02 Jy for the source.\n",
    "\n",
    "(You can see from the output that this has a background of 1.2mJy/beam, or or 0.001 Jy, so any residual background should not be a significant effect on this value)."
   ]
  },
  {
   "cell_type": "markdown",
   "metadata": {},
   "source": [
    "## Integrated fluxes.\n",
    "If you want to calculate the flux integrated over resolved sources you have to consider what you mean by a source. One approach for a compact object would be to use annular photometry, including a correction for the background. This is what we do to calculate our arcsecond FCF (see Dempsey et al 2013). Another approach would be to calculate the flux within an entire map or object. Here we will demonstrate calculating the integrated flux in a 2-D Clump, such as that found when running the CUPID fellwalker on a map.\n",
    "\n",
    "Here we will use a map of G34.3, an occassional SCUBA-2 calibrator source. The file is in `Data/jcmts20191018_00009_850_reduced001_nit_000.sdf`\n",
    "\n",
    "\n",
    "### Calibration\n",
    "\n",
    "First we need to ensure our map is in Jy/arcsec$^{2}$. "
   ]
  },
  {
   "cell_type": "code",
   "execution_count": 8,
   "metadata": {},
   "outputs": [
    {
     "name": "stdout",
     "output_type": "stream",
     "text": [
      "\n",
      "   NDF structure\n",
      "/export/data/sgraves/Tutorials/AnalysisHowTos/S2Fluxes/../Data/jcmts20191018_00\n",
      "009_850_reduced001_nit_000:\n",
      "      Title:  G34.3\n",
      "      Label:  Flux Density\n",
      "      Units:  mJy/beam\n",
      "\n",
      "   Shape:\n",
      "      No. of dimensions:  3\n",
      "      Dimension size(s):  233 x 233 x 1\n",
      "      Pixel bounds     :  -121:111, -101:131, 1:1\n",
      "      Total pixels     :  54289\n",
      "\n",
      "   Data Component:\n",
      "      Type        :  _DOUBLE\n",
      "      Storage form:  SIMPLE\n",
      "      Bad pixels may be present\n",
      "\n",
      "   Variance Component:\n",
      "      Type        :  _DOUBLE\n",
      "      Storage form:  SIMPLE\n",
      "      Bad pixels may be present\n",
      "\n",
      "   Quality Component:\n",
      "      Type        :  _UBYTE\n",
      "      Storage form:  SIMPLE\n",
      "      Bad-bits mask:  0 (binary 00000000)\n",
      "\n",
      "   World Co-ordinate Systems:\n",
      "      Number of co-ordinate Frames: 5\n",
      "\n",
      "      Current co-ordinate Frame (Frame 5):\n",
      "\n",
      "        Frame title         : \"3-d compound coordinate system\"\n",
      "        Domain              : SKY-SPECTRUM\n",
      "        First pixel centre  : 18:53:51.1, 1:08:10, 352.7287\n",
      "\n",
      "           Axis 1:\n",
      "              Label              : Right ascension\n",
      "              Units              : hh:mm:ss.s\n",
      "              Nominal Pixel scale: 3.99999 arc-sec\n",
      "\n",
      "           Axis 2:\n",
      "              Label              : Declination\n",
      "              Units              : ddd:mm:ss\n",
      "              Nominal Pixel scale: 3.99999 arc-sec\n",
      "\n",
      "           Axis 3:\n",
      "              Label              : Frequency\n",
      "              Units              : GHz\n",
      "              Nominal Pixel scale: 31.65514 GHz\n",
      "\n",
      "\n",
      "   Extensions:\n",
      "      FITS             <_CHAR*80>\n",
      "      PROVENANCE       <PROVENANCE>\n",
      "      SMURF            <SMURF_EXT>\n",
      "\n",
      "\n",
      "   History Component:\n",
      "      Created    :  2019 Oct 19 01:41:15\n",
      "      No. records:  17\n",
      "      Last update:  2019 Oct 19 01:41:36 (FITSMOD         (KAPPA 2.6))\n",
      "      Update mode:  NORMAL\n",
      "\n"
     ]
    }
   ],
   "source": [
    "ndftrace ../Data/jcmts20191018_00009_850_reduced001_nit_000.sdf"
   ]
  },
  {
   "cell_type": "markdown",
   "metadata": {},
   "source": [
    "You can see that it is in mJy/beam, from the 'Unit' component shown by `ndftrace`. We will use the PICARD recipe `CALIBRATE_SCUBA2_DATA` to switch the units to mJy/arced$^2$. (This recipe is very simple: it checks what the current calibration is (if any), undoes it if required by dividing by the FCF, then multiplies by the correct standard FCF factor for the requested units.)"
   ]
  },
  {
   "cell_type": "code",
   "execution_count": 9,
   "metadata": {},
   "outputs": [
    {
     "name": "stdout",
     "output_type": "stream",
     "text": [
      "\u001b[34mPicard Says: No display will be used\n",
      "\u001b[0mUse of uninitialized value in subroutine entry at /star/bin/oracdr/src/lib/perl5/ORAC/Basic.pm line 155.\n",
      "\u001b[34mPicard Says: Pre-starting mandatory monoliths...\u001b[0m\u001b[34mDone\n",
      "\u001b[0m\u001b[35mChecking for next data file: /export/data/sgraves/Tutorials/AnalysisHowTos/S2Fluxes/../Data/jcmts20191018_00009_850_reduced001_nit_000.sdf\n",
      "\u001b[0m\u001b[33mStoring: jcmts20191018_00009_850_reduced001_nit_000\n",
      "\u001b[0mUse of uninitialized value in subroutine entry at /star/bin/oracdr/src/lib/perl5/ORAC/Group.pm line 419, <DATA> line 1676.\n",
      "\u001b[34mA new group 20191018#0 has been created\n",
      "\u001b[0m\u001b[33mOverriding PICARD instrument class to PICARD_SCUBA2_850\n",
      "\u001b[0m\u001b[35mSorting Groups\n",
      "\u001b[0m\u001b[33mREDUCING: jcmts20191018_00009_850_reduced001_nit_000\n",
      "\u001b[0m\u001b[35mUsing recipe CALIBRATE_SCUBA2_DATA specified on command-line\n",
      "\u001b[0m\u001b[35mProcessing data for G34.3\n",
      "\u001b[0m\u001b[33m\n",
      "Calling _UNCALIBRATE_SCUBA2_DATA_: undo calibration of given data\n",
      "\u001b[0m\u001b[35mUndoing calibration of 537000 mJy/beam/pW - output units are pW\n",
      "\u001b[0m\u001b[33m\n",
      "Calling _CALIBRATE_SCUBA2_DATA_: calibrate data using standard, given or derived FCF\n",
      "\u001b[0m\u001b[35mPicard Says: Calibrating data in mJy/arcsec**2\n",
      "\u001b[0m\u001b[35mMultiplying jcmts20191018_00009_850_reduced001_nit_000_uncal by 2340 mJy/arcsec**2/pW\n",
      "\u001b[0m\u001b[35mRemoving temporary files...\n",
      "\u001b[0m\u001b[35mChecking jcmts20191018_00009_850_reduced001_nit_000_uncal...\t\u001b[0m\u001b[31mRemoving\n",
      "\u001b[0m\u001b[35mChecking jcmts20191018_00009_850_reduced001_nit_000_uncal_cal...\t\u001b[0m\u001b[32mKeeping extension\n",
      "\u001b[0m\u001b[35mRecipe took 1.407 seconds to evaluate and execute.\n",
      "\n",
      "\u001b[0m\u001b[32mPicard processing complete\n",
      "\u001b[0m\u001b[32mProcessed one recipe which completed successfully\n",
      "\u001b[0m\u001b[31mExiting...\n",
      "\u001b[0m\u001b[35m\n",
      "\u001b[0m\u001b[31mPicard Says: Goodbye\n",
      "\u001b[0m"
     ]
    }
   ],
   "source": [
    "picard -log sf -nodisplay CALIBRATE_SCUBA2_DATA --recpars='FCF_CALTYPE=ARCSEC,USEFCF=True' \\\n",
    "../Data/jcmts20191018_00009_850_reduced001_nit_000.sdf"
   ]
  },
  {
   "cell_type": "markdown",
   "metadata": {},
   "source": [
    "The output file name is `jcmts20191022_00059_850_reduced001_nit_000_uncal_cal.sdf`: this shows you that PICARD first removed the existing calibration `_uncal` and then applied the new calibration `_cal`.\n",
    "\n",
    "We'll now run a very quick clumpfinding routine using the Fellwalker algorithm in CUPID. First we have to initialise the CUPID package:"
   ]
  },
  {
   "cell_type": "code",
   "execution_count": 10,
   "metadata": {},
   "outputs": [
    {
     "name": "stdout",
     "output_type": "stream",
     "text": [
      "\n",
      "\n",
      "     CUPID commands are now available -- (Version 2.5)\n",
      "\n",
      "     Type cupidhelp for help on CUPID commands.\n",
      "     Type 'showme sun255' to browse the hypertext documentation.\n",
      "\n",
      "   \n"
     ]
    }
   ],
   "source": [
    "cupid"
   ]
  },
  {
   "cell_type": "markdown",
   "metadata": {},
   "source": [
    "Next we will run the [`findclumps`](http://starlink.eao.hawaii.edu/cgi-bin/htxserver/sun255.htx/sun255.html?xref_FINDCLUMPS) command with the fellwalker algorithm, but leaving most variables to their default value."
   ]
  },
  {
   "cell_type": "code",
   "execution_count": 11,
   "metadata": {},
   "outputs": [
    {
     "name": "stdout",
     "output_type": "stream",
     "text": [
      "\n",
      "\n",
      "FellWalker:\n",
      "46 clumps rejected because they contain too few pixels.\n",
      "4 further clumps rejected because they are smaller than the spatial beam\n",
      "width.\n",
      "4 further clumps rejected because they include too many bad pixels.\n",
      "8 usable clumps found.\n",
      "\n",
      "\n",
      "Configuration parameters:\n",
      "   FELLWALKER.ALLOWEDGE=1\n",
      "   FELLWALKER.CLEANITER=1\n",
      "   FELLWALKER.DUMPPEAK=0\n",
      "   FELLWALKER.DUMPWALK=-1\n",
      "   FELLWALKER.FLATSLOPE=0.84536655489546\n",
      "   FELLWALKER.FWHMBEAM=2\n",
      "   FELLWALKER.MAXBAD=0.05\n",
      "   FELLWALKER.MAXJUMP=4\n",
      "   FELLWALKER.MINDIP=1.69073310979092\n",
      "   FELLWALKER.MINHEIGHT=1.69073310979092\n",
      "   FELLWALKER.MINPIX=7\n",
      "   FELLWALKER.NOISE=1.69073310979092\n",
      "   FELLWALKER.RMS=0.84536655489546\n",
      "\n",
      "\n"
     ]
    }
   ],
   "source": [
    "findclumps in=jcmts20191018_00009_850_reduced001_nit_000_uncal_cal method=FellWalker out=clumps outcat=! accept"
   ]
  },
  {
   "cell_type": "markdown",
   "metadata": {},
   "source": [
    "You can see from the output that it found 8 clumps. We can take a quick look at the data values in the first clump by examining the CUPID.CLUMPS extension within the NDF like so:"
   ]
  },
  {
   "cell_type": "code",
   "execution_count": 12,
   "metadata": {},
   "outputs": [
    {
     "name": "stdout",
     "output_type": "stream",
     "text": [
      "Data will be scaled from -11.2030809988406 to 220.241529596863.\n",
      "\n",
      "   Pixel statistics for the NDF structure\n",
      "/export/data/sgraves/Tutorials/AnalysisHowTos/S2Fluxes/clumps.MORE.CUPID.CLUMPS\n",
      "(1).MODEL\n",
      "\n",
      "      Title                     : <undefined>\n",
      "      NDF array analysed        : DATA\n",
      "\n",
      "         Pixel sum              : 8828.29267215991\n",
      "         Pixel mean             : 17.7274953256223\n",
      "         Standard deviation     : 28.9015145519101\n",
      "         Skewness               : 3.85402941028909\n",
      "         Kurtosis               : 16.9699034251728\n",
      "         Minimum pixel value    : 1.73469502409571\n",
      "            At pixel            : (-14, 4)\n",
      "            Co-ordinate         : (-14.5, 3.5)\n",
      "         Maximum pixel value    : 205.394380084719\n",
      "            At pixel            : (0, 0)\n",
      "            Co-ordinate         : (-0.5, -0.5)\n",
      "         Total number of pixels : 864\n",
      "         Number of pixels used  : 498 (57.6%)\n",
      "         No. of pixels excluded : 366 (42.4%)\n",
      "\n"
     ]
    }
   ],
   "source": [
    "display in=clumps.sdf.MORE.CUPID.CLUMPS\\(1\\) dev=clumps.png/PNG accept\n",
    "stats clumps.sdf.MORE.CUPID.CLUMPS\\(1\\)"
   ]
  },
  {
   "cell_type": "markdown",
   "metadata": {},
   "source": [
    "![Image of the first clump](S2Fluxes/clumps.png)"
   ]
  },
  {
   "cell_type": "markdown",
   "metadata": {},
   "source": [
    "As you can see from when we ran `ndftrace` above, we have 4\" pixels. Therefore we need to *integrate* our flux over the whole region, to get a value in Jy instead of in Jy/arcsec$^{2}$. The flux in our clump is therefore the total sum of the emission, which is 8828 mJy/arcsec$^{2}$from stats, multipled by 16 square arcseconds = 141 Jy. This assumes that the background level is 0."
   ]
  },
  {
   "cell_type": "code",
   "execution_count": null,
   "metadata": {},
   "outputs": [],
   "source": []
  }
 ],
 "metadata": {
  "celltoolbar": "Raw Cell Format",
  "kernelspec": {
   "display_name": "Bash",
   "language": "bash",
   "name": "bash"
  },
  "language_info": {
   "codemirror_mode": "shell",
   "file_extension": ".sh",
   "mimetype": "text/x-sh",
   "name": "bash"
  },
  "toc": {
   "base_numbering": 1,
   "nav_menu": {},
   "number_sections": true,
   "sideBar": true,
   "skip_h1_title": false,
   "title_cell": "Table of Contents",
   "title_sidebar": "Contents",
   "toc_cell": false,
   "toc_position": {},
   "toc_section_display": true,
   "toc_window_display": false
  }
 },
 "nbformat": 4,
 "nbformat_minor": 2
}
