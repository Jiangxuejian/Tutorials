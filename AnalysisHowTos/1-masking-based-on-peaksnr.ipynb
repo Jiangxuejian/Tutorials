{
 "cells": [
  {
   "cell_type": "markdown",
   "metadata": {},
   "source": [
    "# Masking a 3-D cube based on 5 sigma detection of the peak\n",
    "\n",
    "Although NDF cubes should already have a variance array present, allowing you to easily mask the cube based on the SNR in each channel, its sometimes often useful to mask a cube based on the detection of the peak pixel. This quick how-to shows you how to do this in Starlink.\n",
    "\n",
    "First of all, as always, you need to initialise Starlink and set up the individual package we will use. In this case, that is [KAPPA](http://starlink.eao.hawaii.edu/docs/sun95.htx/sun95.html). (Please note that if you use the tcsh shell instead of the bash shell these commands will be slightly different.) You should replace `/star` in the following commands with the location of your Starlink package, e.g. `~/star-2018A`."
   ]
  },
  {
   "cell_type": "code",
   "execution_count": 1,
   "metadata": {},
   "outputs": [],
   "source": [
    "mkdir CubeAnalysis\n",
    "cd CubeAnalysis\n",
    "export STARLINK_DIR=/star\n",
    "source $STARLINK_DIR/etc/profile"
   ]
  },
  {
   "cell_type": "code",
   "execution_count": 2,
   "metadata": {},
   "outputs": [
    {
     "name": "stdout",
     "output_type": "stream",
     "text": [
      "\n",
      "\n",
      "     KAPPA commands are now available -- (Version 2.5-8)\n",
      "\n",
      "     Type kaphelp for help on KAPPA commands.\n",
      "     Type 'showme sun95' to browse the hypertext documentation.\n",
      "\n",
      "     See the 'Release Notes' section of SUN/95 for details of the\n",
      "     changes made for this release.\n",
      "\n",
      "   \n"
     ]
    }
   ],
   "source": [
    "kappa"
   ]
  },
  {
   "cell_type": "markdown",
   "metadata": {},
   "source": [
    "As we're using Starlink within a jupyter notebook, we don't want it to prompt us for input, so we will set the environmental variable `ADAM_NOPROMPT` to any value. If you're running this in an interactive bash shell you don't need to set this, but if you write shell scripts you don't want to interact with please set this variable at the top of the script."
   ]
  },
  {
   "cell_type": "code",
   "execution_count": 3,
   "metadata": {},
   "outputs": [],
   "source": [
    "export ADAM_NOPROMPT=1"
   ]
  },
  {
   "cell_type": "markdown",
   "metadata": {},
   "source": [
    "For the purposes of this how-to, we are using a reduced HARP spectral cube named `g34-3-12co_trim.sdf` located in the `../Data` directory (relative to our current directory). First of all, we are going to collapse the cube across the velocity axis, leaving the peak emission from each spectra. Currently, we don't care which velocity the peak occured at. We use the command [`collapse`](http://starlink.eao.hawaii.edu/cgi-bin/htxserver/sun95.htx/sun95.html?xref_COLLAPSE) with the `estimator=max` option."
   ]
  },
  {
   "cell_type": "code",
   "execution_count": 4,
   "metadata": {},
   "outputs": [
    {
     "name": "stdout",
     "output_type": "stream",
     "text": [
      "   Collapsing pixel axis 3 from pixel -65 to pixel 121 inclusive...\n",
      "\n"
     ]
    }
   ],
   "source": [
    "collapse in=../Data/g34-3-12co_small_trim.sdf axis=VRAD estimator=max out=g34-3-12co_peakcoll.sdf WLIM=0.0"
   ]
  },
  {
   "cell_type": "markdown",
   "metadata": {},
   "source": [
    "Now lets see what this map looks like, using the KAPPA command [`display`](http://starlink.eao.hawaii.edu/cgi-bin/htxserver/sun95.htx/sun95.html?xref_DISPLAY), with the default options. We can bring it up in a separate XWindows window:"
   ]
  },
  {
   "cell_type": "code",
   "execution_count": 5,
   "metadata": {},
   "outputs": [
    {
     "name": "stdout",
     "output_type": "stream",
     "text": [
      "Data will be scaled from 1.20042586326599 to 22.0331649780273.\n"
     ]
    }
   ],
   "source": [
    "display g34-3-12co_peakcoll.sdf dev=xw accept"
   ]
  },
  {
   "cell_type": "markdown",
   "metadata": {},
   "source": [
    "Or we can plot a png that's easy to include in the notebook session . Lets change some of the default attributes though, so it looks nicer in display. We want black text on a white background, so we will adjust the palette with [`palentry`](http://starlink.eao.hawaii.edu/cgi-bin/htxserver/sun95.htx/sun95.html?xref_PALENTRY) and lets use the warm color table with [`lutwarm`](http://starlink.eao.hawaii.edu/cgi-bin/htxserver/sun95.htx/sun95.html?xref_LUTWARM)"
   ]
  },
  {
   "cell_type": "code",
   "execution_count": 6,
   "metadata": {},
   "outputs": [],
   "source": [
    "lutwarm device=PNG\n",
    "palentry 0 White device=PNG\n",
    "palentry 1 Black device=PNG"
   ]
  },
  {
   "cell_type": "markdown",
   "metadata": {},
   "source": [
    "And lets also have a black border and numeric labels, as well as a light grey tick marks. We'll alter these by creating a [style file](http://starlink.eao.hawaii.edu/cgi-bin/htxserver/sun95.htx/sun95.html?xref_se_style):"
   ]
  },
  {
   "cell_type": "code",
   "execution_count": 7,
   "metadata": {},
   "outputs": [],
   "source": [
    "echo 'border=1' > style.dat\n",
    "echo 'color(border) = black' >>style.dat\n",
    "echo 'color(numlab) = black' >>style.dat\n",
    "echo 'color(ticks) = grey' >>style.dat"
   ]
  },
  {
   "cell_type": "markdown",
   "metadata": {},
   "source": [
    "We'll use this to plot our png like so:"
   ]
  },
  {
   "cell_type": "code",
   "execution_count": 8,
   "metadata": {},
   "outputs": [
    {
     "name": "stdout",
     "output_type": "stream",
     "text": [
      "Data will be scaled from 1.20042586326599 to 22.0331649780273.\n"
     ]
    }
   ],
   "source": [
    "display g34-3-12co_peakcoll.sdf dev=peakcoll.png/PNG style=^style.dat accept"
   ]
  },
  {
   "cell_type": "markdown",
   "metadata": {},
   "source": [
    "![Image of max-collapsed 12CO data](CubeAnalysis/peakcoll.png)"
   ]
  },
  {
   "cell_type": "markdown",
   "metadata": {},
   "source": [
    "Now lets mask out these points based on a 5$\\sigma$ detection in the peak. We could do this using the KAPPA command [`makesnr`](http://starlink.eao.hawaii.edu/cgi-bin/htxserver/sun95.htx/sun95.html?xref_MAKESNR) and [`thresh`](http://starlink.eao.hawaii.edu/cgi-bin/htxserver/sun95.htx/sun95.html?xref_THRESH), but even easier is to use the [`errclip`](http://starlink.eao.hawaii.edu/cgi-bin/htxserver/sun95.htx/sun95.html?xref_ERRCLIP) to do it one go."
   ]
  },
  {
   "cell_type": "code",
   "execution_count": 9,
   "metadata": {},
   "outputs": [
    {
     "name": "stdout",
     "output_type": "stream",
     "text": [
      "\n",
      "  Applying a lower limit on signal-to-noise ratio.\n",
      "  3846 pixels had signal-to-noise ratios less than 5 in\n",
      "\"/export/data/sgraves/Tutorials/AnalysisHowTos/CubeAnalysis/g34-3-12co_peakcoll\n",
      "\".\n"
     ]
    }
   ],
   "source": [
    "errclip in=g34-3-12co_peakcoll.sdf limit=5 mode=SNR out=g34-3-12co_5sigpeak.sdf"
   ]
  },
  {
   "cell_type": "code",
   "execution_count": 10,
   "metadata": {},
   "outputs": [
    {
     "name": "stdout",
     "output_type": "stream",
     "text": [
      "Data will be scaled from 1.28564727306366 to 23.3510208129883.\n"
     ]
    }
   ],
   "source": [
    "display g34-3-12co_5sigpeak.sdf dev=peakcoll_clip.png/PNG style=^style.dat accept"
   ]
  },
  {
   "cell_type": "markdown",
   "metadata": {},
   "source": [
    "![Image of max-collapsed and 5sigma clipped 12CO data](CubeAnalysis/peakcoll_clip.png)"
   ]
  },
  {
   "cell_type": "markdown",
   "metadata": {},
   "source": [
    "We now want to apply this mask to our original cube. We first 'grow' this 2-D mask to be the same shape as our original cube, using [`manic`](http://starlink.eao.hawaii.edu/cgi-bin/htxserver/sun95.htx/sun95.html?xref_MANIC)\n",
    "\n",
    "First we get the shape of the original cube using [`ndftrace`](http://starlink.eao.hawaii.edu/cgi-bin/htxserver/sun95.htx/sun95.html?xref_NDFTRACE)"
   ]
  },
  {
   "cell_type": "code",
   "execution_count": 12,
   "metadata": {},
   "outputs": [
    {
     "name": "stdout",
     "output_type": "stream",
     "text": [
      "\n",
      "   NDF structure ../Data/g34-3-12co_small_trim:\n",
      "      Title:  Galactic plane 30.0\n",
      "      Label:  TA*   corrected antenna temperature\n",
      "      Units:  K\n",
      "\n",
      "   Shape:\n",
      "      No. of dimensions:  3\n",
      "      Dimension size(s):  171 x 139 x 187\n",
      "      Pixel bounds     :  -2625:-2455, 11:149, -65:121\n",
      "      Total pixels     :  4444803\n",
      "\n",
      "   Data Component:\n",
      "      Type        :  _REAL\n",
      "      Storage form:  SIMPLE\n",
      "      Bad pixels may be present\n",
      "\n",
      "   Variance Component:\n",
      "      Type        :  _REAL\n",
      "      Storage form:  SIMPLE\n",
      "      Bad pixels may be present\n",
      "\n",
      "   World Co-ordinate Systems:\n",
      "      Number of co-ordinate Frames: 5\n",
      "\n",
      "      Current co-ordinate Frame (Frame 5):\n",
      "\n",
      "        Frame title         : \"3-d compound coordinate system\"\n",
      "        Domain              : SKY-DSBSPECTRUM\n",
      "        First pixel centre  : 34.3675, 0.0170, -30.902\n",
      "\n",
      "           Axis 1:\n",
      "              Label              : Galactic longitude\n",
      "              Units              : degrees\n",
      "              Nominal Pixel scale: 5.96741 arc-sec\n",
      "\n",
      "           Axis 2:\n",
      "              Label              : Galactic latitude\n",
      "              Units              : degrees\n",
      "              Nominal Pixel scale: 5.98365 arc-sec\n",
      "\n",
      "           Axis 3:\n",
      "              Label              : Radio velocity (LSB)\n",
      "              Units              : km/s\n",
      "              Nominal Pixel scale: 1 km/s\n",
      "\n",
      "\n",
      "   Extensions:\n",
      "      FITS             <_CHAR*80>\n",
      "\n",
      "\n",
      "   History Component:\n",
      "      Created    :  2012 Oct 13 16:06:57\n",
      "      No. records:  28\n",
      "      Last update:  2019 Oct 26 00:48:52 (NDFCOPY         (KAPPA 2.6-4))\n",
      "      Update mode:  NORMAL\n",
      "\n"
     ]
    }
   ],
   "source": [
    "ndftrace ../Data/g34-3-12co_small_trim.sdf"
   ]
  },
  {
   "cell_type": "markdown",
   "metadata": {},
   "source": [
    "The part we're interested in is the pixel bounds:"
   ]
  },
  {
   "cell_type": "code",
   "execution_count": 14,
   "metadata": {},
   "outputs": [
    {
     "name": "stdout",
     "output_type": "stream",
     "text": [
      "      \u001b[01;31m\u001b[KPixel bounds\u001b[m\u001b[K     :  -2625:-2455, 11:149, -65:121\n"
     ]
    }
   ],
   "source": [
    "ndftrace ../Data/g34-3-12co_small_trim.sdf|grep 'Pixel bounds'"
   ]
  },
  {
   "cell_type": "markdown",
   "metadata": {},
   "source": [
    "If you were doing this in a script, you could get the values programatically using [`parget`](http://starlink.eao.hawaii.edu/cgi-bin/htxserver/sun95.htx/sun95.html?xref_PARGET)) as BASH arrays:"
   ]
  },
  {
   "cell_type": "code",
   "execution_count": 15,
   "metadata": {},
   "outputs": [],
   "source": [
    "LOWER_BOUND=(`parget lbound ndftrace`)\n",
    "UPPER_BOUND=(`parget ubound ndftrace`)"
   ]
  },
  {
   "cell_type": "markdown",
   "metadata": {},
   "source": [
    "And you can then get the third element of the array like so:"
   ]
  },
  {
   "cell_type": "code",
   "execution_count": 16,
   "metadata": {},
   "outputs": [],
   "source": [
    "LBOUND=${LOWER_BOUND[2]}\n",
    "UBOUND=${UPPER_BOUND[2]}"
   ]
  },
  {
   "cell_type": "markdown",
   "metadata": {},
   "source": [
    "This would let you grow your cube using [`manic`](http://starlink.eao.hawaii.edu/cgi-bin/htxserver/sun95.htx/sun95.html?xref_MANIC) into a cube pixel-aligned with the original data and having the same dimension.\n",
    "\n",
    "`Manic` will do this by stacking identical copies of our 2 dimensional image repeatedly in the 3rd dimension. This means it will have the correct bad-pixel mask to blank out all pixels in our input cube that do not have 5$\\sigma$ detection of the peak pixel.\n",
    "\n",
    "To call `manic`, we specify that we want the 1st and 2nd axis to remain the same, and the third one to be a number of copies of the same image via `axes=[1,2,0]`. We then set the upper bound and lower bound parameters to be the same [pixel bounds](http://starlink.eao.hawaii.edu/cgi-bin/htxserver/sun95.htx/sun95.html?xref_se_pixgrd) as the original data using `ubound` and `lbound`."
   ]
  },
  {
   "cell_type": "code",
   "execution_count": 17,
   "metadata": {},
   "outputs": [],
   "source": [
    "manic g34-3-12co_5sigpeak.sdf axes=[1,2,0] lbound=$LBOUND ubound=$UBOUND out=5sigpeakmask_3d.sdf"
   ]
  },
  {
   "cell_type": "markdown",
   "metadata": {},
   "source": [
    "Finally, we use the command [`copybad`](http://starlink.eao.hawaii.edu/cgi-bin/htxserver/sun95.htx/sun95.html?xref_COPYBAD) to copy the bad pixel mask from our mask to our original data:"
   ]
  },
  {
   "cell_type": "code",
   "execution_count": 19,
   "metadata": {},
   "outputs": [
    {
     "name": "stdout",
     "output_type": "stream",
     "text": [
      "\n",
      "  There were 719202 bad pixels copied to the output NDF\n",
      "'/export/data/sgraves/Tutorials/AnalysisHowTos/CubeAnalysis/g34-3-12co_5sigpeak\n",
      "masked'.\n",
      "\n"
     ]
    }
   ],
   "source": [
    "copybad in=../Data/g34-3-12co_small_trim.sdf ref=5sigpeakmask_3d.sdf out=g34-3-12co_5sigpeakmasked.sdf"
   ]
  },
  {
   "cell_type": "markdown",
   "metadata": {},
   "source": [
    "You could now examine this cube in Gaia if you want to see the output cube."
   ]
  }
 ],
 "metadata": {
  "kernelspec": {
   "display_name": "Bash",
   "language": "bash",
   "name": "bash"
  },
  "language_info": {
   "codemirror_mode": "shell",
   "file_extension": ".sh",
   "mimetype": "text/x-sh",
   "name": "bash"
  },
  "toc": {
   "base_numbering": 1,
   "nav_menu": {},
   "number_sections": true,
   "sideBar": true,
   "skip_h1_title": false,
   "title_cell": "Table of Contents",
   "title_sidebar": "Contents",
   "toc_cell": false,
   "toc_position": {},
   "toc_section_display": true,
   "toc_window_display": false
  }
 },
 "nbformat": 4,
 "nbformat_minor": 2
}
